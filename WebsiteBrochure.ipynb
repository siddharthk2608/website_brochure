{
 "cells": [
  {
   "cell_type": "markdown",
   "id": "35c0c15f-31d7-4bcf-b628-53349aba61b2",
   "metadata": {},
   "source": [
    "# A full business solution\n",
    "\n",
    "## Now we will take our project from Day 1 to the next level\n",
    "\n",
    "### BUSINESS CHALLENGE:\n",
    "\n",
    "Create a product that builds a Brochure for a company to be used for prospective clients, investors and potential recruits.\n",
    "\n",
    "We will be provided a company name and their primary website.\n",
    "\n",
    "See the end of this notebook for examples of real-world business applications.\n",
    "\n",
    "And remember: I'm always available if you have problems or ideas! Please do reach out."
   ]
  },
  {
   "cell_type": "code",
   "execution_count": null,
   "id": "f194313d-428b-416a-b96e-55776acc1105",
   "metadata": {},
   "outputs": [],
   "source": [
    "# imports\n",
    "# If these fail, please check you're running from an 'activated' environment with (llms) in the command prompt\n",
    "\n",
    "import os\n",
    "import requests\n",
    "import json\n",
    "from typing import List\n",
    "from dotenv import load_dotenv\n",
    "from bs4 import BeautifulSoup\n",
    "from IPython.display import Markdown, display, update_display\n",
    "from openai import OpenAI\n",
    "import google.generativeai as genai\n",
    "import re"
   ]
  },
  {
   "cell_type": "code",
   "execution_count": 36,
   "id": "fc5d8880-f2ee-4c06-af16-ecbc0262af61",
   "metadata": {},
   "outputs": [
    {
     "name": "stdout",
     "output_type": "stream",
     "text": [
      "API key found and looks good so far!\n",
      "<class 'google.generativeai.generative_models.GenerativeModel'>\n"
     ]
    }
   ],
   "source": [
    "# Initialize and constants\n",
    "\n",
    "load_dotenv(override=True)\n",
    "# api_key = os.getenv('OPENAI_API_KEY')\n",
    "api_key = os.getenv('GEMINI_API_KEY')\n",
    "\n",
    "if not api_key:\n",
    "    print(\"No API key was found - please head over to the troubleshooting notebook in this folder to identify & fix!\")\n",
    "elif not api_key.startswith(\"AIzaSy\"):\n",
    "    print(\"An API key was found, but it doesn't start with AIzaSy; please check you're using the right key - see troubleshooting notebook\")\n",
    "elif api_key.strip() != api_key:\n",
    "    print(\"An API key was found, but it looks like it might have space or tab characters at the start or end - please remove them - see troubleshooting notebook\")\n",
    "else:\n",
    "    print(\"API key found and looks good so far!\")\n",
    "\n",
    "\n",
    "# MODEL = 'gpt-4o-mini'\n",
    "# openai = OpenAI()\n",
    "model = genai.GenerativeModel(\"gemini-2.5-flash\")\n",
    "genai.configure()\n",
    "print(type(model))"
   ]
  },
  {
   "cell_type": "code",
   "execution_count": 37,
   "id": "106dd65e-90af-4ca8-86b6-23a41840645b",
   "metadata": {},
   "outputs": [],
   "source": [
    "# A class to represent a Webpage\n",
    "\n",
    "# Some websites need you to use proper headers when fetching them:\n",
    "headers = {\n",
    " \"User-Agent\": \"Mozilla/5.0 (Windows NT 10.0; Win64; x64) AppleWebKit/537.36 (KHTML, like Gecko) Chrome/117.0.0.0 Safari/537.36\"\n",
    "}\n",
    "\n",
    "class Website:\n",
    "    \"\"\"\n",
    "    A utility class to represent a Website that we have scraped, now with links\n",
    "    \"\"\"\n",
    "\n",
    "    def __init__(self, url):\n",
    "        self.url = url\n",
    "        response = requests.get(url, headers=headers)\n",
    "        self.body = response.content\n",
    "        soup = BeautifulSoup(self.body, 'html.parser')\n",
    "        self.title = soup.title.string if soup.title else \"No title found\"\n",
    "        if soup.body:\n",
    "            for irrelevant in soup.body([\"script\", \"style\", \"img\", \"input\"]):\n",
    "                irrelevant.decompose()\n",
    "            self.text = soup.body.get_text(separator=\"\\n\", strip=True)\n",
    "        else:\n",
    "            self.text = \"\"\n",
    "        links = [link.get('href') for link in soup.find_all('a')]\n",
    "        self.links = [link for link in links if link]\n",
    "\n",
    "    def get_contents(self):\n",
    "        return f\"Webpage Title:\\n{self.title}\\nWebpage Contents:\\n{self.text}\\n\\n\""
   ]
  },
  {
   "cell_type": "code",
   "execution_count": 38,
   "id": "e30d8128-933b-44cc-81c8-ab4c9d86589a",
   "metadata": {},
   "outputs": [
    {
     "data": {
      "text/plain": [
       "['https://edwarddonner.com/',\n",
       " 'https://edwarddonner.com/connect-four/',\n",
       " 'https://edwarddonner.com/outsmart/',\n",
       " 'https://edwarddonner.com/about-me-and-about-nebula/',\n",
       " 'https://edwarddonner.com/posts/',\n",
       " 'https://edwarddonner.com/',\n",
       " 'https://news.ycombinator.com',\n",
       " 'https://nebula.io/?utm_source=ed&utm_medium=referral',\n",
       " 'https://www.prnewswire.com/news-releases/wynden-stark-group-acquires-nyc-venture-backed-tech-startup-untapt-301269512.html',\n",
       " 'https://patents.google.com/patent/US20210049536A1/',\n",
       " 'https://www.linkedin.com/in/eddonner/',\n",
       " 'https://edwarddonner.com/2025/09/15/ai-in-production-gen-ai-and-agentic-ai-on-aws-at-scale/',\n",
       " 'https://edwarddonner.com/2025/09/15/ai-in-production-gen-ai-and-agentic-ai-on-aws-at-scale/',\n",
       " 'https://edwarddonner.com/2025/05/28/connecting-my-courses-become-an-llm-expert-and-leader/',\n",
       " 'https://edwarddonner.com/2025/05/28/connecting-my-courses-become-an-llm-expert-and-leader/',\n",
       " 'https://edwarddonner.com/2025/05/18/2025-ai-executive-briefing/',\n",
       " 'https://edwarddonner.com/2025/05/18/2025-ai-executive-briefing/',\n",
       " 'https://edwarddonner.com/2025/04/21/the-complete-agentic-ai-engineering-course/',\n",
       " 'https://edwarddonner.com/2025/04/21/the-complete-agentic-ai-engineering-course/',\n",
       " 'https://edwarddonner.com/',\n",
       " 'https://edwarddonner.com/connect-four/',\n",
       " 'https://edwarddonner.com/outsmart/',\n",
       " 'https://edwarddonner.com/about-me-and-about-nebula/',\n",
       " 'https://edwarddonner.com/posts/',\n",
       " 'mailto:hello@mygroovydomain.com',\n",
       " 'https://www.linkedin.com/in/eddonner/',\n",
       " 'https://twitter.com/edwarddonner',\n",
       " 'https://www.facebook.com/edward.donner.52']"
      ]
     },
     "execution_count": 38,
     "metadata": {},
     "output_type": "execute_result"
    }
   ],
   "source": [
    "ed = Website(\"https://edwarddonner.com\")\n",
    "ed.links"
   ]
  },
  {
   "cell_type": "markdown",
   "id": "1771af9c-717a-4fca-bbbe-8a95893312c3",
   "metadata": {},
   "source": [
    "## First step: Have GPT-4o-mini figure out which links are relevant\n",
    "\n",
    "### Use a call to gpt-4o-mini to read the links on a webpage, and respond in structured JSON.  \n",
    "It should decide which links are relevant, and replace relative links such as \"/about\" with \"https://company.com/about\".  \n",
    "We will use \"one shot prompting\" in which we provide an example of how it should respond in the prompt.\n",
    "\n",
    "This is an excellent use case for an LLM, because it requires nuanced understanding. Imagine trying to code this without LLMs by parsing and analyzing the webpage - it would be very hard!\n",
    "\n",
    "Sidenote: there is a more advanced technique called \"Structured Outputs\" in which we require the model to respond according to a spec. We cover this technique in Week 8 during our autonomous Agentic AI project."
   ]
  },
  {
   "cell_type": "code",
   "execution_count": 39,
   "id": "6957b079-0d96-45f7-a26a-3487510e9b35",
   "metadata": {},
   "outputs": [],
   "source": [
    "link_system_prompt = \"You are provided with a list of links found on a webpage. \\\n",
    "You are able to decide which of the links would be most relevant to include in a brochure about the company, \\\n",
    "such as links to an About page, or a Company page, or Careers/Jobs pages.\\n\"\n",
    "link_system_prompt += \"You should respond in JSON as in this example:\"\n",
    "link_system_prompt += \"\"\"\n",
    "{\n",
    "    \"links\": [\n",
    "        {\"type\": \"about page\", \"url\": \"https://full.url/goes/here/about\"},\n",
    "        {\"type\": \"careers page\", \"url\": \"https://another.full.url/careers\"}\n",
    "    ]\n",
    "}\n",
    "\"\"\"\n",
    "\n"
   ]
  },
  {
   "cell_type": "code",
   "execution_count": 40,
   "id": "b97e4068-97ed-4120-beae-c42105e4d59a",
   "metadata": {},
   "outputs": [
    {
     "name": "stdout",
     "output_type": "stream",
     "text": [
      "You are provided with a list of links found on a webpage. You are able to decide which of the links would be most relevant to include in a brochure about the company, such as links to an About page, or a Company page, or Careers/Jobs pages.\n",
      "You should respond in JSON as in this example:\n",
      "{\n",
      "    \"links\": [\n",
      "        {\"type\": \"about page\", \"url\": \"https://full.url/goes/here/about\"},\n",
      "        {\"type\": \"careers page\", \"url\": \"https://another.full.url/careers\"}\n",
      "    ]\n",
      "}\n",
      "\n"
     ]
    }
   ],
   "source": [
    "print(link_system_prompt)"
   ]
  },
  {
   "cell_type": "code",
   "execution_count": 41,
   "id": "8e1f601b-2eaf-499d-b6b8-c99050c9d6b3",
   "metadata": {},
   "outputs": [],
   "source": [
    "def get_links_user_prompt(website):\n",
    "    user_prompt = f\"Here is the list of links on the website of {website.url} - \"\n",
    "    user_prompt += \"please decide which of these are relevant web links for a brochure about the company, respond with the full https URL in JSON format. \\\n",
    "Do not include Terms of Service, Privacy, email links.\\n\"\n",
    "    user_prompt += \"Links (some might be relative links):\\n\"\n",
    "    user_prompt += \"\\n\".join(website.links)\n",
    "    return user_prompt"
   ]
  },
  {
   "cell_type": "code",
   "execution_count": 42,
   "id": "6bcbfa78-6395-4685-b92c-22d592050fd7",
   "metadata": {},
   "outputs": [
    {
     "name": "stdout",
     "output_type": "stream",
     "text": [
      "Here is the list of links on the website of https://edwarddonner.com - please decide which of these are relevant web links for a brochure about the company, respond with the full https URL in JSON format. Do not include Terms of Service, Privacy, email links.\n",
      "Links (some might be relative links):\n",
      "https://edwarddonner.com/\n",
      "https://edwarddonner.com/connect-four/\n",
      "https://edwarddonner.com/outsmart/\n",
      "https://edwarddonner.com/about-me-and-about-nebula/\n",
      "https://edwarddonner.com/posts/\n",
      "https://edwarddonner.com/\n",
      "https://news.ycombinator.com\n",
      "https://nebula.io/?utm_source=ed&utm_medium=referral\n",
      "https://www.prnewswire.com/news-releases/wynden-stark-group-acquires-nyc-venture-backed-tech-startup-untapt-301269512.html\n",
      "https://patents.google.com/patent/US20210049536A1/\n",
      "https://www.linkedin.com/in/eddonner/\n",
      "https://edwarddonner.com/2025/09/15/ai-in-production-gen-ai-and-agentic-ai-on-aws-at-scale/\n",
      "https://edwarddonner.com/2025/09/15/ai-in-production-gen-ai-and-agentic-ai-on-aws-at-scale/\n",
      "https://edwarddonner.com/2025/05/28/connecting-my-courses-become-an-llm-expert-and-leader/\n",
      "https://edwarddonner.com/2025/05/28/connecting-my-courses-become-an-llm-expert-and-leader/\n",
      "https://edwarddonner.com/2025/05/18/2025-ai-executive-briefing/\n",
      "https://edwarddonner.com/2025/05/18/2025-ai-executive-briefing/\n",
      "https://edwarddonner.com/2025/04/21/the-complete-agentic-ai-engineering-course/\n",
      "https://edwarddonner.com/2025/04/21/the-complete-agentic-ai-engineering-course/\n",
      "https://edwarddonner.com/\n",
      "https://edwarddonner.com/connect-four/\n",
      "https://edwarddonner.com/outsmart/\n",
      "https://edwarddonner.com/about-me-and-about-nebula/\n",
      "https://edwarddonner.com/posts/\n",
      "mailto:hello@mygroovydomain.com\n",
      "https://www.linkedin.com/in/eddonner/\n",
      "https://twitter.com/edwarddonner\n",
      "https://www.facebook.com/edward.donner.52\n"
     ]
    }
   ],
   "source": [
    "print(get_links_user_prompt(ed))\n"
   ]
  },
  {
   "cell_type": "code",
   "execution_count": 43,
   "id": "e3d2a16d-1a3d-493d-8f51-226f0c6b16b4",
   "metadata": {},
   "outputs": [],
   "source": [
    "def parse_gemini_response(response):\n",
    "    # Access candidates directly on response\n",
    "    text = response.candidates[0].content.parts[0].text\n",
    "    \n",
    "    # Remove markdown JSON code block wrappers\n",
    "    json_str = re.sub(r\"```json\\s*|\\s*```\", \"\", text).strip()\n",
    "    \n",
    "    # Parse and return JSON\n",
    "    return json.loads(json_str)"
   ]
  },
  {
   "cell_type": "code",
   "execution_count": 44,
   "id": "a29aca19-ca13-471c-a4b4-5abbfa813f69",
   "metadata": {},
   "outputs": [],
   "source": [
    "def get_links(url):\n",
    "    website = Website(url)\n",
    "    # response = openai.chat.completions.create(\n",
    "    #     model=MODEL,\n",
    "    #     messages=[\n",
    "    #         {\"role\": \"system\", \"content\": link_system_prompt},\n",
    "    #         {\"role\": \"user\", \"content\": get_links_user_prompt(website)}\n",
    "    #   ],\n",
    "    #     response_format={\"type\": \"json_object\"}\n",
    "    # )\n",
    "    # result = response.choices[0].message.content\n",
    "    # return json.loads(result)\n",
    "\n",
    "    messages =[\n",
    "        {\n",
    "            \"role\": \"user\",\n",
    "            \"parts\": [f\"{link_system_prompt}\\n\\n{get_links_user_prompt(website)}\"]\n",
    "        }\n",
    "    ]\n",
    "    # response_format={\"type\": \"json_object\"}\n",
    "\n",
    "    response = model.generate_content(messages)\n",
    "    # print(response)\n",
    "\n",
    "    \n",
    "    return parse_gemini_response(response)\n",
    "    "
   ]
  },
  {
   "cell_type": "code",
   "execution_count": 45,
   "id": "74a827a0-2782-4ae5-b210-4a242a8b4cc2",
   "metadata": {
    "scrolled": true
   },
   "outputs": [
    {
     "data": {
      "text/plain": [
       "['/',\n",
       " '/models',\n",
       " '/datasets',\n",
       " '/spaces',\n",
       " '/docs',\n",
       " '/enterprise',\n",
       " '/pricing',\n",
       " '/login',\n",
       " '/join',\n",
       " '/spaces',\n",
       " '/models',\n",
       " '/baidu/ERNIE-4.5-21B-A3B-Thinking',\n",
       " '/tencent/SRPO',\n",
       " '/tencent/HunyuanImage-2.1',\n",
       " '/Qwen/Qwen3-Next-80B-A3B-Instruct',\n",
       " '/google/embeddinggemma-300m',\n",
       " '/models',\n",
       " '/spaces/enzostvs/deepsite',\n",
       " '/spaces/zerogpu-aoti/wan2-2-fp8da-aoti-faster',\n",
       " '/spaces/multimodalart/wan-2-2-first-last-frame',\n",
       " '/spaces/Qwen/Qwen3-ASR-Demo',\n",
       " '/spaces/tencent/HunyuanImage-2.1',\n",
       " '/spaces',\n",
       " '/datasets/HuggingFaceFW/finepdfs',\n",
       " '/datasets/HuggingFaceM4/FineVision',\n",
       " '/datasets/fka/awesome-chatgpt-prompts',\n",
       " '/datasets/LucasFang/FLUX-Reason-6M',\n",
       " '/datasets/jupyter-agent/jupyter-agent-dataset',\n",
       " '/datasets',\n",
       " '/join',\n",
       " '/pricing#endpoints',\n",
       " '/pricing#spaces',\n",
       " '/pricing',\n",
       " '/enterprise',\n",
       " '/enterprise',\n",
       " '/enterprise',\n",
       " '/enterprise',\n",
       " '/enterprise',\n",
       " '/enterprise',\n",
       " '/enterprise',\n",
       " '/allenai',\n",
       " '/facebook',\n",
       " '/amazon',\n",
       " '/google',\n",
       " '/Intel',\n",
       " '/microsoft',\n",
       " '/grammarly',\n",
       " '/Writer',\n",
       " '/docs/transformers',\n",
       " '/docs/diffusers',\n",
       " '/docs/safetensors',\n",
       " '/docs/huggingface_hub',\n",
       " '/docs/tokenizers',\n",
       " '/docs/trl',\n",
       " '/docs/transformers.js',\n",
       " '/docs/smolagents',\n",
       " '/docs/peft',\n",
       " '/docs/datasets',\n",
       " '/docs/text-generation-inference',\n",
       " '/docs/accelerate',\n",
       " '/models',\n",
       " '/datasets',\n",
       " '/spaces',\n",
       " '/changelog',\n",
       " 'https://endpoints.huggingface.co',\n",
       " '/chat',\n",
       " '/huggingface',\n",
       " '/brand',\n",
       " '/terms-of-service',\n",
       " '/privacy',\n",
       " 'https://apply.workable.com/huggingface/',\n",
       " 'mailto:press@huggingface.co',\n",
       " '/learn',\n",
       " '/docs',\n",
       " '/blog',\n",
       " 'https://discuss.huggingface.co',\n",
       " 'https://status.huggingface.co/',\n",
       " 'https://github.com/huggingface',\n",
       " 'https://twitter.com/huggingface',\n",
       " 'https://www.linkedin.com/company/huggingface/',\n",
       " '/join/discord']"
      ]
     },
     "execution_count": 45,
     "metadata": {},
     "output_type": "execute_result"
    }
   ],
   "source": [
    "# Anthropic has made their site harder to scrape, so I'm using HuggingFace..\n",
    "\n",
    "huggingface = Website(\"https://huggingface.co\")\n",
    "huggingface.links"
   ]
  },
  {
   "cell_type": "code",
   "execution_count": 49,
   "id": "d3d583e2-dcc4-40cc-9b28-1e8dbf402924",
   "metadata": {},
   "outputs": [
    {
     "data": {
      "text/plain": [
       "{'links': [{'type': 'careers page',\n",
       "   'url': 'https://apply.workable.com/huggingface/'},\n",
       "  {'type': 'pricing page', 'url': 'https://huggingface.co/pricing'},\n",
       "  {'type': 'enterprise solutions page',\n",
       "   'url': 'https://huggingface.co/enterprise'},\n",
       "  {'type': 'blog page', 'url': 'https://huggingface.co/blog'},\n",
       "  {'type': 'learn page', 'url': 'https://huggingface.co/learn'},\n",
       "  {'type': 'models page', 'url': 'https://huggingface.co/models'},\n",
       "  {'type': 'datasets page', 'url': 'https://huggingface.co/datasets'},\n",
       "  {'type': 'spaces page', 'url': 'https://huggingface.co/spaces'},\n",
       "  {'type': 'endpoints page', 'url': 'https://endpoints.huggingface.co'},\n",
       "  {'type': 'company info page', 'url': 'https://huggingface.co/brand'}]}"
      ]
     },
     "execution_count": 49,
     "metadata": {},
     "output_type": "execute_result"
    }
   ],
   "source": [
    "get_links(\"https://huggingface.co\")"
   ]
  },
  {
   "cell_type": "markdown",
   "id": "0d74128e-dfb6-47ec-9549-288b621c838c",
   "metadata": {},
   "source": [
    "## Second step: make the brochure!\n",
    "\n",
    "Assemble all the details into another prompt to GPT4-o"
   ]
  },
  {
   "cell_type": "code",
   "execution_count": 50,
   "id": "85a5b6e2-e7ef-44a9-bc7f-59ede71037b5",
   "metadata": {},
   "outputs": [],
   "source": [
    "def get_all_details(url):\n",
    "    result = \"Landing page:\\n\"\n",
    "    result += Website(url).get_contents()\n",
    "    links = get_links(url)\n",
    "    print(\"Found links:\", links)\n",
    "    for link in links[\"links\"]:\n",
    "        result += f\"\\n\\n{link['type']}\\n\"\n",
    "        result += Website(link[\"url\"]).get_contents()\n",
    "    return result"
   ]
  },
  {
   "cell_type": "code",
   "execution_count": null,
   "id": "5099bd14-076d-4745-baf3-dac08d8e5ab2",
   "metadata": {
    "scrolled": true
   },
   "outputs": [],
   "source": [
    "print(get_all_details(\"https://huggingface.co\"))"
   ]
  },
  {
   "cell_type": "code",
   "execution_count": 55,
   "id": "9b863a55-f86c-4e3f-8a79-94e24c1a8cf2",
   "metadata": {},
   "outputs": [],
   "source": [
    "system_prompt = \"You are an assistant that analyzes the contents of several relevant pages from a company website \\\n",
    "and creates a short brochure about the company for prospective customers, investors and recruits. Respond in markdown.\\\n",
    "Include details of company culture, customers and careers/jobs if you have the information.\"\n",
    "\n",
    "# Or uncomment the lines below for a more humorous brochure - this demonstrates how easy it is to incorporate 'tone':\n",
    "\n",
    "# system_prompt = \"You are an assistant that analyzes the contents of several relevant pages from a company website \\\n",
    "# and creates a short humorous, entertaining, jokey brochure about the company for prospective customers, investors and recruits. Respond in markdown.\\\n",
    "# Include details of company culture, customers and careers/jobs if you have the information.\"\n"
   ]
  },
  {
   "cell_type": "code",
   "execution_count": 56,
   "id": "6ab83d92-d36b-4ce0-8bcc-5bb4c2f8ff23",
   "metadata": {},
   "outputs": [],
   "source": [
    "def get_brochure_user_prompt(company_name, url):\n",
    "    user_prompt = f\"You are looking at a company called: {company_name}\\n\"\n",
    "    user_prompt += f\"Here are the contents of its landing page and other relevant pages; use this information to build a short brochure of the company in markdown.\\n\"\n",
    "    user_prompt += get_all_details(url)\n",
    "    user_prompt = user_prompt[:5_000] # Truncate if more than 5,000 characters\n",
    "    return user_prompt"
   ]
  },
  {
   "cell_type": "code",
   "execution_count": 57,
   "id": "cd909e0b-1312-4ce2-a553-821e795d7572",
   "metadata": {
    "scrolled": true
   },
   "outputs": [
    {
     "name": "stdout",
     "output_type": "stream",
     "text": [
      "Found links: {'links': [{'type': 'about page', 'url': 'https://huggingface.co/'}, {'type': 'enterprise page', 'url': 'https://huggingface.co/enterprise'}, {'type': 'pricing page', 'url': 'https://huggingface.co/pricing'}, {'type': 'careers page', 'url': 'https://apply.workable.com/huggingface/'}, {'type': 'blog page', 'url': 'https://huggingface.co/blog'}, {'type': 'learning page', 'url': 'https://huggingface.co/learn'}, {'type': 'company profile page', 'url': 'https://www.linkedin.com/company/huggingface/'}]}\n"
     ]
    },
    {
     "data": {
      "text/plain": [
       "'You are looking at a company called: HuggingFace\\nHere are the contents of its landing page and other relevant pages; use this information to build a short brochure of the company in markdown.\\nLanding page:\\nWebpage Title:\\nHugging Face – The AI community building the future.\\nWebpage Contents:\\nHugging Face\\nModels\\nDatasets\\nSpaces\\nCommunity\\nDocs\\nEnterprise\\nPricing\\nLog In\\nSign Up\\nThe AI community building the future.\\nThe platform where the machine learning community collaborates on models, datasets, and applications.\\nExplore AI Apps\\nor\\nBrowse 1M+ models\\nTrending on\\nthis week\\nModels\\ntencent/SRPO\\nUpdated\\nabout 9 hours ago\\n•\\n3.08k\\n•\\n690\\nbaidu/ERNIE-4.5-21B-A3B-Thinking\\nUpdated\\n4 days ago\\n•\\n102k\\n•\\n689\\ntencent/HunyuanImage-2.1\\nUpdated\\n3 days ago\\n•\\n5.53k\\n•\\n592\\nQwen/Qwen3-Next-80B-A3B-Instruct\\nUpdated\\nabout 7 hours ago\\n•\\n198k\\n•\\n509\\ngoogle/embeddinggemma-300m\\nUpdated\\n5 days ago\\n•\\n163k\\n•\\n783\\nBrowse 1M+ models\\nSpaces\\nRunning\\n13.4k\\n13.4k\\nDeepSite v2\\n🐳\\nGenerate any application with DeepSeek\\nRunning\\non\\nZero\\nMCP\\n1k\\n1k\\nWan2.2 14B Fast\\n🎥\\ngenerate a video from an image with a text prompt\\nStarting\\non\\nZero\\n241\\n241\\nWan 2 2 First Last Frame\\n💻\\nGenerate a video by interpolating between two images with a prompt\\nRunning\\n151\\n151\\nQwen3 ASR Demo\\n👀\\nConvert audio to text with context and language options\\nRunning\\non\\nA100\\n133\\n133\\nHunyuanImage 2.1\\n🔥\\nGenerate high-quality images from text prompts\\nBrowse 400k+ applications\\nDatasets\\nHuggingFaceFW/finepdfs\\nUpdated\\n7 days ago\\n•\\n53.3k\\n•\\n437\\nHuggingFaceM4/FineVision\\nUpdated\\n11 days ago\\n•\\n144k\\n•\\n311\\nfka/awesome-chatgpt-prompts\\nUpdated\\nJan 6\\n•\\n44.8k\\n•\\n9.04k\\nLucasFang/FLUX-Reason-6M\\nUpdated\\n4 days ago\\n•\\n10.5k\\n•\\n42\\njupyter-agent/jupyter-agent-dataset\\nUpdated\\n5 days ago\\n•\\n4.43k\\n•\\n132\\nBrowse 250k+ datasets\\nThe Home of Machine Learning\\nCreate, discover and collaborate on ML better.\\nThe collaboration platform\\nHost and collaborate on unlimited public models, datasets and applications.\\nMove faster\\nWith the HF Open source stack.\\nExplore all modalities\\nText, image, video, audio or even 3D.\\nBuild your portfolio\\nShare your work with the world and build your ML profile.\\nSign Up\\nAccelerate your ML\\nWe provide paid Compute and Enterprise solutions.\\nCompute\\nDeploy on optimized\\nInference Endpoints\\nor update your\\nSpaces applications\\nto a GPU in a few clicks.\\nView pricing\\nStarting at $0.60/hour for GPU\\nTeam & Enterprise\\nGive your team the most advanced platform to build AI with enterprise-grade security, access controls and\\n\\t\\t\\tdedicated support.\\nGetting started\\nStarting at $20/user/month\\nSingle Sign-On\\nRegions\\nPriority Support\\nAudit Logs\\nResource Groups\\nPrivate Datasets Viewer\\nMore than 50,000 organizations are using Hugging Face\\nAi2\\nTeam\\nnon-profit\\n•\\n791 models\\n•\\n4.04k followers\\nAI at Meta\\nEnterprise\\ncompany\\n•\\n2.22k models\\n•\\n7.79k followers\\nAmazon\\nEnterprise\\ncompany\\n•\\n20 models\\n•\\n3.43k followers\\nGoogle\\nEnterprise\\ncompany\\n•\\n1.05k models\\n•\\n29.2k followers\\nIntel\\ncompany\\n•\\n239 models\\n•\\n2.99k followers\\nMicrosoft\\nEnterprise\\ncompany\\n•\\n424 models\\n•\\n15.4k followers\\nGrammarly\\nTeam\\ncompany\\n•\\n11 models\\n•\\n179 followers\\nWriter\\nEnterprise\\ncompany\\n•\\n30 models\\n•\\n338 followers\\nOur Open Source\\nWe are building the foundation of ML tooling with the community.\\nTransformers\\n149,817\\nState-of-the-art AI models for PyTorch\\nDiffusers\\n30,743\\nState-of-the-art Diffusion models in PyTorch\\nSafetensors\\n3,448\\nSafe way to store/distribute neural network weights\\nHub Python Library\\n2,912\\nPython client to interact with the Hugging Face Hub\\nTokenizers\\n10,075\\nFast tokenizers optimized for research & production\\nTRL\\n15,523\\nTrain transformers LMs with reinforcement learning\\nTransformers.js\\n14,548\\nState-of-the-art ML running directly in your browser\\nsmolagents\\n22,818\\nSmol library to build great agents in Python\\nPEFT\\n19,580\\nParameter-efficient finetuning for large language models\\nDatasets\\n20,647\\nAccess & share datasets for any ML tasks\\nText Generation Inference\\n10,505\\nServe language models with TGI optimized toolkit\\nAccelerate\\n9,133\\nTrain PyTorch models with multi-GPU, TPU, mixed precision\\nSystem theme\\nWebsite\\nModels\\nDatasets\\nSpaces\\nChangelog\\nInference Endpoints\\nHuggingChat\\nCompany\\nAbout\\nBrand assets\\nTerms of service\\nPrivacy\\nJobs\\nPress\\nResources\\nLearn\\nDocumentation\\nBlog\\nForum\\nService Status\\nSocial\\nGitHub\\nTwitter\\nLinkedIn\\nDiscord\\n\\n\\n\\nabout page\\nWebpage Title:\\nHugging Face – The AI community building the future.\\nWebpage Contents:\\nHugging Face\\nModels\\nDatasets\\nSpaces\\nCommunity\\nDocs\\nEnterprise\\nPricing\\nLog In\\nSign Up\\nThe AI community building the future.\\nThe platform where the machine learning community collaborates on models, datasets, and applications.\\nExplore AI Apps\\nor\\nBrowse 1M+ models\\nTrending on\\nthis week\\nModels\\ntencent/SRPO\\nUpdated\\nabout 9 hours ago\\n•\\n3.08k\\n•\\n690\\nbaidu/ERNIE-4.5-21B-A3B-Thinking\\nUpdated\\n4 days ago\\n•\\n102k\\n•\\n689\\ntencent/HunyuanImage-2.1\\nUpdated\\n3 days ago\\n•\\n5.53k\\n•\\n592\\nQwen/Qwen3-Next-80B-A3B-Instruct\\nUpdated\\nabout 7 hours ago\\n•\\n198k\\n•\\n509\\ngoogle/embeddinggemma-300m\\nUpdated\\n5 days ago\\n•\\n163k\\n•\\n783\\nBrowse 1M+ models\\nSpaces\\nRunning\\n13.4k\\n13.4k\\nDeepSite '"
      ]
     },
     "execution_count": 57,
     "metadata": {},
     "output_type": "execute_result"
    }
   ],
   "source": [
    "get_brochure_user_prompt(\"HuggingFace\", \"https://huggingface.co\")"
   ]
  },
  {
   "cell_type": "code",
   "execution_count": 68,
   "id": "e44de579-4a1a-4e6a-a510-20ea3e4b8d46",
   "metadata": {},
   "outputs": [],
   "source": [
    "def create_brochure(company_name, url):\n",
    "    \n",
    "    messages =[\n",
    "        {\n",
    "            \"role\": \"user\",\n",
    "            \"parts\": [f\"{system_prompt}\\n\\n{get_brochure_user_prompt(company_name, url)}\"]\n",
    "        }\n",
    "    ]\n",
    "    \n",
    "    # for Open AI\n",
    "    # response = openai.chat.completions.create(\n",
    "    #     model=MODEL,\n",
    "    #     messages=[\n",
    "    #         {\"role\": \"system\", \"content\": system_prompt},\n",
    "    #         {\"role\": \"user\", \"content\": get_brochure_user_prompt(company_name, url)}\n",
    "    #       ],\n",
    "    # )\n",
    "    # result = response.choices[0].message.content\n",
    "    result = model.generate_content(messages)\n",
    "\n",
    "    result_text = result.candidates[0].content.parts[0].text\n",
    "    display(Markdown(result_text))"
   ]
  },
  {
   "cell_type": "code",
   "execution_count": 69,
   "id": "e093444a-9407-42ae-924a-145730591a39",
   "metadata": {},
   "outputs": [
    {
     "name": "stdout",
     "output_type": "stream",
     "text": [
      "Found links: {'links': [{'type': 'about page', 'url': 'https://huggingface.co/huggingface'}, {'type': 'careers page', 'url': 'https://apply.workable.com/huggingface/'}, {'type': 'enterprise solutions', 'url': 'https://huggingface.co/enterprise'}, {'type': 'pricing page', 'url': 'https://huggingface.co/pricing'}, {'type': 'blog', 'url': 'https://huggingface.co/blog'}, {'type': 'learning resources', 'url': 'https://huggingface.co/learn'}]}\n"
     ]
    },
    {
     "data": {
      "text/markdown": [
       "# Hugging Face: The AI Community Building the Future\n",
       "\n",
       "Hugging Face is the leading platform where the global machine learning (ML) community collaborates on models, datasets, and applications, accelerating the future of artificial intelligence. We empower individuals and organizations to create, discover, and collaborate on ML better, fostering an open and innovative ecosystem.\n",
       "\n",
       "---\n",
       "\n",
       "### For Prospective Customers: Elevate Your AI Development\n",
       "\n",
       "Hugging Face offers an unparalleled suite of tools and resources designed to streamline and accelerate your machine learning workflows:\n",
       "\n",
       "*   **Vast Resources:** Access over 1 million models, 250,000+ datasets, and 400,000+ applications (Spaces) across all modalities—text, image, video, audio, and even 3D.\n",
       "*   **Seamless Collaboration:** Our platform provides a collaborative environment to host and work on unlimited public models, datasets, and applications, enabling your team to move faster.\n",
       "*   **Powerful Compute & Enterprise Solutions:**\n",
       "    *   **Compute:** Deploy on optimized Inference Endpoints or upgrade your Spaces applications to GPUs with ease, starting at competitive hourly rates.\n",
       "    *   **Team & Enterprise:** Benefit from advanced features like enterprise-grade security, access controls, dedicated support, Single Sign-On (SSO), audit logs, resource groups, and private datasets viewer.\n",
       "*   **Industry-Leading Open Source Tools:** We build the foundation of ML tooling with the community, offering widely adopted libraries such as Transformers, Diffusers, TRL, PEFT, and more.\n",
       "\n",
       "**Trusted by Over 50,000 Organizations:** Leading innovators like Google, Microsoft, Amazon, Meta, AI2, Intel, Grammarly, and Writer leverage Hugging Face to power their AI initiatives.\n",
       "\n",
       "---\n",
       "\n",
       "### For Investors: Investing in the Foundation of AI\n",
       "\n",
       "Hugging Face represents a strategic investment in the core infrastructure of modern AI. We are at the forefront of the machine learning revolution, driven by:\n",
       "\n",
       "*   **Market Leadership:** We are the definitive collaboration platform and a central hub for the global ML community, with unparalleled user engagement and content growth.\n",
       "*   **Robust Ecosystem:** Our platform supports a comprehensive lifecycle of ML development, from research and data preparation to model deployment and application sharing.\n",
       "*   **Strong Commercial Offerings:** Our paid Compute and Enterprise solutions provide scalable revenue streams by addressing critical needs for performance, security, and team management for large organizations.\n",
       "*   **Open Source Advantage:** Our leadership in open source ML tooling (e.g., Transformers, Diffusers) establishes a powerful network effect, driving adoption and reinforcing our platform's central role.\n",
       "*   **Massive Adoption:** With over 50,000 organizations and a vibrant community of millions, Hugging Face is foundational to how AI is being built today and in the future.\n",
       "\n",
       "---\n",
       "\n",
       "### For Recruits: Join the Movement to Build the Future of AI\n",
       "\n",
       "Are you passionate about machine learning and its potential to shape the future? At Hugging Face, you'll be part of a vibrant, innovative, and impactful environment:\n",
       "\n",
       "*   **Our Mission:** We are \"the AI community building the future.\" Join us in creating, discovering, and collaborating on ML better, contributing to the foundational tools that empower millions.\n",
       "*   **Collaborative Culture:** We embody a strong community spirit, valuing open source contributions, shared knowledge, and collective innovation. Our work is deeply rooted in fostering collaboration within the ML world.\n",
       "*   **Impactful Work:** Your contributions will directly influence the development of state-of-the-art AI, working on projects that are widely adopted and make a tangible difference in the field.\n",
       "*   **Growth and Learning:** Surround yourself with brilliant minds and cutting-edge technology, with ample opportunities to learn, grow, and build your ML profile.\n",
       "\n",
       "**Ready to make your mark in AI?** Explore our career opportunities and become a part of the team at Hugging Face.\n",
       "\n",
       "---\n",
       "\n",
       "### Discover Hugging Face Today!\n",
       "\n",
       "Whether you're looking to accelerate your AI projects, invest in the future of machine learning, or build a career at the cutting edge of technology, Hugging Face is your destination.\n",
       "\n",
       "**Visit us at huggingface.co to learn more, explore our platform, or browse our open positions.**"
      ],
      "text/plain": [
       "<IPython.core.display.Markdown object>"
      ]
     },
     "metadata": {},
     "output_type": "display_data"
    }
   ],
   "source": [
    "create_brochure(\"HuggingFace\", \"https://huggingface.co\")"
   ]
  },
  {
   "cell_type": "code",
   "execution_count": null,
   "id": "09bd5c59-9cc1-4416-bda1-670fef334e63",
   "metadata": {},
   "outputs": [],
   "source": []
  }
 ],
 "metadata": {
  "kernelspec": {
   "display_name": ".venv (3.13.7)",
   "language": "python",
   "name": "python3"
  },
  "language_info": {
   "codemirror_mode": {
    "name": "ipython",
    "version": 3
   },
   "file_extension": ".py",
   "mimetype": "text/x-python",
   "name": "python",
   "nbconvert_exporter": "python",
   "pygments_lexer": "ipython3",
   "version": "3.13.7"
  }
 },
 "nbformat": 4,
 "nbformat_minor": 5
}
